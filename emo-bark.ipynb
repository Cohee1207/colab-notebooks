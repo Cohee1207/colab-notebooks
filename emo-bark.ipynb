{
 "cells": [
  {
   "cell_type": "code",
   "execution_count": 1,
   "metadata": {},
   "outputs": [
    {
     "name": "stdout",
     "output_type": "stream",
     "text": [
      "Requirement already satisfied: nltk in /Users/cohee/miniconda3/lib/python3.10/site-packages (3.8.1)\n",
      "Requirement already satisfied: click in /Users/cohee/miniconda3/lib/python3.10/site-packages (from nltk) (8.1.6)\n",
      "Requirement already satisfied: tqdm in /Users/cohee/miniconda3/lib/python3.10/site-packages (from nltk) (4.65.0)\n",
      "Requirement already satisfied: joblib in /Users/cohee/miniconda3/lib/python3.10/site-packages (from nltk) (1.2.0)\n",
      "Requirement already satisfied: regex>=2021.8.3 in /Users/cohee/miniconda3/lib/python3.10/site-packages (from nltk) (2023.8.8)\n",
      "Note: you may need to restart the kernel to use updated packages.\n",
      "Requirement already satisfied: torch in /Users/cohee/miniconda3/lib/python3.10/site-packages (2.1.0)\n",
      "Requirement already satisfied: jinja2 in /Users/cohee/miniconda3/lib/python3.10/site-packages (from torch) (3.1.2)\n",
      "Requirement already satisfied: networkx in /Users/cohee/miniconda3/lib/python3.10/site-packages (from torch) (3.1)\n",
      "Requirement already satisfied: filelock in /Users/cohee/miniconda3/lib/python3.10/site-packages (from torch) (3.12.3)\n",
      "Requirement already satisfied: sympy in /Users/cohee/miniconda3/lib/python3.10/site-packages (from torch) (1.12)\n",
      "Requirement already satisfied: typing-extensions in /Users/cohee/miniconda3/lib/python3.10/site-packages (from torch) (4.8.0)\n",
      "Requirement already satisfied: fsspec in /Users/cohee/miniconda3/lib/python3.10/site-packages (from torch) (2023.6.0)\n",
      "Requirement already satisfied: MarkupSafe>=2.0 in /Users/cohee/miniconda3/lib/python3.10/site-packages (from jinja2->torch) (2.1.3)\n",
      "Requirement already satisfied: mpmath>=0.19 in /Users/cohee/miniconda3/lib/python3.10/site-packages (from sympy->torch) (1.3.0)\n",
      "Note: you may need to restart the kernel to use updated packages.\n",
      "Requirement already satisfied: torchaudio in /Users/cohee/miniconda3/lib/python3.10/site-packages (2.1.0)\n",
      "Requirement already satisfied: torch==2.1.0 in /Users/cohee/miniconda3/lib/python3.10/site-packages (from torchaudio) (2.1.0)\n",
      "Requirement already satisfied: jinja2 in /Users/cohee/miniconda3/lib/python3.10/site-packages (from torch==2.1.0->torchaudio) (3.1.2)\n",
      "Requirement already satisfied: typing-extensions in /Users/cohee/miniconda3/lib/python3.10/site-packages (from torch==2.1.0->torchaudio) (4.8.0)\n",
      "Requirement already satisfied: networkx in /Users/cohee/miniconda3/lib/python3.10/site-packages (from torch==2.1.0->torchaudio) (3.1)\n",
      "Requirement already satisfied: fsspec in /Users/cohee/miniconda3/lib/python3.10/site-packages (from torch==2.1.0->torchaudio) (2023.6.0)\n",
      "Requirement already satisfied: sympy in /Users/cohee/miniconda3/lib/python3.10/site-packages (from torch==2.1.0->torchaudio) (1.12)\n",
      "Requirement already satisfied: filelock in /Users/cohee/miniconda3/lib/python3.10/site-packages (from torch==2.1.0->torchaudio) (3.12.3)\n",
      "Requirement already satisfied: MarkupSafe>=2.0 in /Users/cohee/miniconda3/lib/python3.10/site-packages (from jinja2->torch==2.1.0->torchaudio) (2.1.3)\n",
      "Requirement already satisfied: mpmath>=0.19 in /Users/cohee/miniconda3/lib/python3.10/site-packages (from sympy->torch==2.1.0->torchaudio) (1.3.0)\n",
      "Note: you may need to restart the kernel to use updated packages.\n",
      "Requirement already satisfied: transformers in /Users/cohee/miniconda3/lib/python3.10/site-packages (4.34.0.dev0)\n",
      "Requirement already satisfied: filelock in /Users/cohee/miniconda3/lib/python3.10/site-packages (from transformers) (3.12.3)\n",
      "Requirement already satisfied: regex!=2019.12.17 in /Users/cohee/miniconda3/lib/python3.10/site-packages (from transformers) (2023.8.8)\n",
      "Requirement already satisfied: huggingface-hub<1.0,>=0.15.1 in /Users/cohee/miniconda3/lib/python3.10/site-packages (from transformers) (0.16.4)\n",
      "Requirement already satisfied: tqdm>=4.27 in /Users/cohee/miniconda3/lib/python3.10/site-packages (from transformers) (4.65.0)\n",
      "Requirement already satisfied: pyyaml>=5.1 in /Users/cohee/miniconda3/lib/python3.10/site-packages (from transformers) (6.0.1)\n",
      "Requirement already satisfied: tokenizers!=0.11.3,<0.14,>=0.11.1 in /Users/cohee/miniconda3/lib/python3.10/site-packages (from transformers) (0.13.3)\n",
      "Requirement already satisfied: packaging>=20.0 in /Users/cohee/miniconda3/lib/python3.10/site-packages (from transformers) (23.2)\n",
      "Requirement already satisfied: requests in /Users/cohee/miniconda3/lib/python3.10/site-packages (from transformers) (2.28.1)\n",
      "Requirement already satisfied: safetensors>=0.3.1 in /Users/cohee/miniconda3/lib/python3.10/site-packages (from transformers) (0.3.3)\n",
      "Requirement already satisfied: numpy>=1.17 in /Users/cohee/miniconda3/lib/python3.10/site-packages (from transformers) (1.24.2)\n",
      "Requirement already satisfied: fsspec in /Users/cohee/miniconda3/lib/python3.10/site-packages (from huggingface-hub<1.0,>=0.15.1->transformers) (2023.6.0)\n",
      "Requirement already satisfied: typing-extensions>=3.7.4.3 in /Users/cohee/miniconda3/lib/python3.10/site-packages (from huggingface-hub<1.0,>=0.15.1->transformers) (4.8.0)\n",
      "Requirement already satisfied: urllib3<1.27,>=1.21.1 in /Users/cohee/miniconda3/lib/python3.10/site-packages (from requests->transformers) (1.26.14)\n",
      "Requirement already satisfied: idna<4,>=2.5 in /Users/cohee/miniconda3/lib/python3.10/site-packages (from requests->transformers) (3.4)\n",
      "Requirement already satisfied: certifi>=2017.4.17 in /Users/cohee/miniconda3/lib/python3.10/site-packages (from requests->transformers) (2023.7.22)\n",
      "Requirement already satisfied: charset-normalizer<3,>=2 in /Users/cohee/miniconda3/lib/python3.10/site-packages (from requests->transformers) (2.1.1)\n",
      "Note: you may need to restart the kernel to use updated packages.\n",
      "Requirement already satisfied: scipy in /Users/cohee/miniconda3/lib/python3.10/site-packages (1.10.0)\n",
      "Requirement already satisfied: numpy<1.27.0,>=1.19.5 in /Users/cohee/miniconda3/lib/python3.10/site-packages (from scipy) (1.24.2)\n",
      "Note: you may need to restart the kernel to use updated packages.\n"
     ]
    }
   ],
   "source": [
    "%pip install nltk\n",
    "%pip install torch\n",
    "%pip install torchaudio\n",
    "%pip install transformers\n",
    "%pip install scipy"
   ]
  },
  {
   "cell_type": "code",
   "execution_count": null,
   "metadata": {},
   "outputs": [],
   "source": [
    "tts_model = 'suno/bark' # @param {type:\"string\"}\n",
    "classification_model = \"nateraw/bert-base-uncased-emotion\" # @param {type:\"string\"}\n",
    "text = 'We came here to get away from it all, so that our love might blossom. Look at my beloved. The flies have made her ugly and rotten. I wish she were beautiful, like the squirrels of the wood. And so I will cover her in the squirrels of the wood.' # @param {type:\"string\"}"
   ]
  },
  {
   "cell_type": "markdown",
   "metadata": {},
   "source": [
    "## Audio outputs:\n",
    "\n",
    "1. Raw TTS\n",
    "2. TTS after applying emotion labels"
   ]
  },
  {
   "cell_type": "code",
   "execution_count": null,
   "metadata": {},
   "outputs": [],
   "source": [
    "import nltk\n",
    "from transformers import pipeline\n",
    "from IPython.display import Audio, display\n",
    "import scipy\n",
    "\n",
    "sound_file_raw = \"bark_out_raw.wav\"\n",
    "sound_file_emo = \"bark_out_emo.wav\"\n",
    "\n",
    "classify = pipeline(\"text-classification\", model=classification_model)\n",
    "tts = pipeline(\"text-to-speech\", tts_model)\n",
    "\n",
    "sentences = list(nltk.sent_tokenize(text))\n",
    "labels = []\n",
    "\n",
    "for sentence in sentences:\n",
    "    classification = classify(sentence)[0]\n",
    "    labels.append(f'[{classification[\"label\"]}]')\n",
    "    print(f\"{classification['label']}: {sentence}\")\n",
    "\n",
    "# Flatten the list of tuples\n",
    "classified_sentences = list(sum(zip(labels, sentences), ()))\n",
    "text_with_labels = \" \".join(classified_sentences)\n",
    "\n",
    "print('Generation voice without labels:', text)\n",
    "speech = tts(text, forward_params={\"do_sample\": True})\n",
    "scipy.io.wavfile.write(sound_file_raw, rate=speech[\"sampling_rate\"], data=speech[\"audio\"])\n",
    "\n",
    "print('Generation voice with labels:', text_with_labels)\n",
    "speech = tts(text_with_labels, forward_params={\"do_sample\": True})\n",
    "scipy.io.wavfile.write(sound_file_emo, rate=speech[\"sampling_rate\"], data=speech[\"audio\"])\n",
    "\n",
    "display(Audio(sound_file_raw, autoplay=False))\n",
    "display(Audio(sound_file_emo, autoplay=False))"
   ]
  }
 ],
 "metadata": {
  "kernelspec": {
   "display_name": "base",
   "language": "python",
   "name": "python3"
  },
  "language_info": {
   "codemirror_mode": {
    "name": "ipython",
    "version": 3
   },
   "file_extension": ".py",
   "mimetype": "text/x-python",
   "name": "python",
   "nbconvert_exporter": "python",
   "pygments_lexer": "ipython3",
   "version": "3.10.8"
  }
 },
 "nbformat": 4,
 "nbformat_minor": 2
}
