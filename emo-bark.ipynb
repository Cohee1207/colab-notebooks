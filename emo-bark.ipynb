{
 "cells": [
  {
   "cell_type": "code",
   "execution_count": null,
   "metadata": {},
   "outputs": [],
   "source": [
    "%pip install nltk\n",
    "%pip install torch\n",
    "%pip install torchaudio\n",
    "%pip install transformers\n",
    "%pip install scipy"
   ]
  },
  {
   "cell_type": "code",
   "execution_count": null,
   "metadata": {},
   "outputs": [],
   "source": [
    "tts_model = 'suno/bark' # @param {type:\"string\"}\n",
    "classification_model = \"nateraw/bert-base-uncased-emotion\" # @param {type:\"string\"}\n",
    "text = 'We came here to get away from it all, so that our love might blossom. Look at my beloved. The flies have made her ugly and rotten. I wish she were beautiful, like the squirrels of the wood. And so I will cover her in the squirrels of the wood.' # @param {type:\"string\"}"
   ]
  },
  {
   "cell_type": "markdown",
   "metadata": {},
   "source": [
    "## Audio outputs:\n",
    "\n",
    "1. Raw TTS\n",
    "2. TTS after applying emotion labels"
   ]
  },
  {
   "cell_type": "code",
   "execution_count": null,
   "metadata": {},
   "outputs": [],
   "source": [
    "import nltk\n",
    "from transformers import pipeline\n",
    "from IPython.display import Audio, display\n",
    "import scipy\n",
    "\n",
    "sound_file_raw = \"bark_out_raw.wav\"\n",
    "sound_file_emo = \"bark_out_emo.wav\"\n",
    "\n",
    "classify = pipeline(\"text-classification\", model=classification_model)\n",
    "tts = pipeline(\"text-to-speech\", tts_model)\n",
    "\n",
    "sentences = list(nltk.sent_tokenize(text))\n",
    "labels = []\n",
    "\n",
    "for sentence in sentences:\n",
    "    classification = classify(sentence)[0]\n",
    "    labels.append(f'[{classification[\"label\"]}]')\n",
    "    print(f\"{classification['label']}: {sentence}\")\n",
    "\n",
    "# Flatten the list of tuples\n",
    "classified_sentences = list(sum(zip(labels, sentences), ()))\n",
    "text_with_labels = \" \".join(classified_sentences)\n",
    "\n",
    "print('Generation voice without labels:', text)\n",
    "speech = tts(text, forward_params={\"do_sample\": True})\n",
    "scipy.io.wavfile.write(sound_file_raw, rate=speech[\"sampling_rate\"], data=speech[\"audio\"])\n",
    "\n",
    "print('Generation voice with labels:', text_with_labels)\n",
    "speech = tts(text_with_labels, forward_params={\"do_sample\": True})\n",
    "scipy.io.wavfile.write(sound_file_emo, rate=speech[\"sampling_rate\"], data=speech[\"audio\"])\n",
    "\n",
    "display(Audio(sound_file_raw, autoplay=False))\n",
    "display(Audio(sound_file_emo, autoplay=False))"
   ]
  }
 ],
 "metadata": {
  "kernelspec": {
   "display_name": "base",
   "language": "python",
   "name": "python3"
  },
  "language_info": {
   "codemirror_mode": {
    "name": "ipython",
    "version": 3
   },
   "file_extension": ".py",
   "mimetype": "text/x-python",
   "name": "python",
   "nbconvert_exporter": "python",
   "pygments_lexer": "ipython3",
   "version": "3.10.8"
  }
 },
 "nbformat": 4,
 "nbformat_minor": 2
}
